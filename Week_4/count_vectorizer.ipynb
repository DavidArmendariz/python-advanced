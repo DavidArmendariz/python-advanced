{
 "cells": [
  {
   "cell_type": "code",
   "execution_count": 7,
   "metadata": {},
   "outputs": [],
   "source": [
    "class CountVectorizer:\n",
    "    def __init__(self, ngram_size):\n",
    "        self.ngram_size = ngram_size\n",
    "        self.vocabulary = dict()\n",
    "        self.unique_tokens = set()\n",
    "        self.corpus_tokens = []\n",
    "    \n",
    "    def fit(self, corpus):\n",
    "        self.vocabulary.clear()\n",
    "        self.unique_tokens.clear()\n",
    "        for word in corpus:\n",
    "            i = 0\n",
    "            while (i+self.ngram_size) <= len(word):\n",
    "                token = word[i:(i+self.ngram_size)]\n",
    "                self.unique_tokens.add(token)\n",
    "                i += 1\n",
    "        self.vocabulary = {token: index for index, token in enumerate(sorted(list(self.unique_tokens)))}\n",
    "    \n",
    "    def transform(self, corpus):\n",
    "        self.corpus_tokens.clear()\n",
    "        for word in corpus:\n",
    "            i = 0\n",
    "            tokens_per_word = []\n",
    "            while (i+self.ngram_size) <= len(word):\n",
    "                token = word[i:(i+self.ngram_size)]\n",
    "                tokens_per_word.append(token)\n",
    "                i += 1\n",
    "            self.corpus_tokens.append(tokens_per_word)\n",
    "        tokens = list(self.vocabulary.keys())\n",
    "        transformed_corpus = []\n",
    "        for index, token_list in enumerate(self.corpus_tokens):\n",
    "            tokens_per_word = []\n",
    "            for token in tokens:\n",
    "                tokens_per_word.append(token_list.count(token))\n",
    "            transformed_corpus.append(tokens_per_word)\n",
    "        return transformed_corpus\n",
    "                  \n",
    "    def fit_transform(self, corpus):\n",
    "        self.fit(corpus)\n",
    "        return self.transform(corpus)"
   ]
  }
 ],
 "metadata": {
  "kernelspec": {
   "display_name": "Python 3",
   "language": "python",
   "name": "python3"
  },
  "language_info": {
   "codemirror_mode": {
    "name": "ipython",
    "version": 3
   },
   "file_extension": ".py",
   "mimetype": "text/x-python",
   "name": "python",
   "nbconvert_exporter": "python",
   "pygments_lexer": "ipython3",
   "version": "3.6.9"
  }
 },
 "nbformat": 4,
 "nbformat_minor": 4
}
