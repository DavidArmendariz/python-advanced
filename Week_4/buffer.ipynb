{
 "cells": [
  {
   "cell_type": "code",
   "execution_count": 34,
   "metadata": {},
   "outputs": [],
   "source": [
    "class Buffer:\n",
    "    def __init__(self, maxsize):\n",
    "        self.maxsize = maxsize\n",
    "        self.sequence = []\n",
    "\n",
    "    def add(self, *a):\n",
    "        for arg in a:\n",
    "            self.sequence.append(arg)\n",
    "            if len(self.sequence) == self.maxsize:\n",
    "                print(sum(self.sequence))\n",
    "                self.sequence.clear()\n",
    "                \n",
    "    def get_current_part(self):\n",
    "        return self.sequence"
   ]
  }
 ],
 "metadata": {
  "kernelspec": {
   "display_name": "Python 3",
   "language": "python",
   "name": "python3"
  },
  "language_info": {
   "codemirror_mode": {
    "name": "ipython",
    "version": 3
   },
   "file_extension": ".py",
   "mimetype": "text/x-python",
   "name": "python",
   "nbconvert_exporter": "python",
   "pygments_lexer": "ipython3",
   "version": "3.6.9"
  }
 },
 "nbformat": 4,
 "nbformat_minor": 4
}
