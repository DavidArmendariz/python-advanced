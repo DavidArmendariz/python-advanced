{
 "cells": [
  {
   "cell_type": "code",
   "execution_count": 1,
   "metadata": {},
   "outputs": [],
   "source": [
    "class Queue:\n",
    "    def __init__(self):\n",
    "        self.stack_push = []\n",
    "        self.stack_pop = []\n",
    "    \n",
    "    def push(self, x):\n",
    "        self.stack_push.append(x)\n",
    "        self.stack_pop = [x] + self.stack_pop\n",
    "    \n",
    "    def pop(self):\n",
    "        if len(self.stack_pop) == 0:\n",
    "            raise IndexError(\"pop from an empty queue\")\n",
    "        element = self.stack_pop.pop()\n",
    "        self.stack_push = self.stack_pop[::-1]\n",
    "        return element\n",
    "        "
   ]
  }
 ],
 "metadata": {
  "kernelspec": {
   "display_name": "Python 3",
   "language": "python",
   "name": "python3"
  },
  "language_info": {
   "codemirror_mode": {
    "name": "ipython",
    "version": 3
   },
   "file_extension": ".py",
   "mimetype": "text/x-python",
   "name": "python",
   "nbconvert_exporter": "python",
   "pygments_lexer": "ipython3",
   "version": "3.6.9"
  }
 },
 "nbformat": 4,
 "nbformat_minor": 4
}
