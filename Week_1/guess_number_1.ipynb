{
 "cells": [
  {
   "cell_type": "code",
   "execution_count": 29,
   "metadata": {},
   "outputs": [
    {
     "name": "stdout",
     "output_type": "stream",
     "text": [
      "10\n",
      "1 2 3 4 5 6 7 8 9 10\n",
      "YES\n",
      "1 2 3 4 5\n",
      "NO\n",
      "HELP\n",
      "6 7 8 9 10\n"
     ]
    }
   ],
   "source": [
    "N = int(input())\n",
    "whitelist = set(range(1, N+1))\n",
    "blacklist = set()\n",
    "while True:\n",
    "    question = input()\n",
    "    if question == \"HELP\":\n",
    "        break\n",
    "    else:\n",
    "        numbers = [int(x) for x in question.split()]\n",
    "        numbers = set([x for x in numbers if (x <= N and x >= 1)])\n",
    "    answer = input()\n",
    "    if answer == \"YES\":\n",
    "        whitelist.intersection_update(numbers)\n",
    "    elif answer == \"NO\":\n",
    "        blacklist.update(numbers)\n",
    "        whitelist.difference_update(blacklist)\n",
    "print(*sorted(whitelist), sep=\" \")"
   ]
  },
  {
   "cell_type": "code",
   "execution_count": null,
   "metadata": {},
   "outputs": [],
   "source": []
  }
 ],
 "metadata": {
  "kernelspec": {
   "display_name": "Python 3",
   "language": "python",
   "name": "python3"
  },
  "language_info": {
   "codemirror_mode": {
    "name": "ipython",
    "version": 3
   },
   "file_extension": ".py",
   "mimetype": "text/x-python",
   "name": "python",
   "nbconvert_exporter": "python",
   "pygments_lexer": "ipython3",
   "version": "3.6.9"
  }
 },
 "nbformat": 4,
 "nbformat_minor": 4
}
