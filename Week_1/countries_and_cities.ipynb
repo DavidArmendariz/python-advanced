{
 "cells": [
  {
   "cell_type": "code",
   "execution_count": null,
   "metadata": {},
   "outputs": [],
   "source": [
    "n = int(input())\n",
    "countries = dict()\n",
    "for i in range(n):\n",
    "    info = input().split()\n",
    "    country = info.pop(0)\n",
    "    countries[country] = info\n",
    "request_n = int(input())\n",
    "requests = []\n",
    "for i in range(request_n):\n",
    "    requests.append(input())\n",
    "for city in requests:\n",
    "    for country, c in countries.items():\n",
    "        if city in c:\n",
    "            print(country)\n",
    "            break"
   ]
  }
 ],
 "metadata": {
  "kernelspec": {
   "display_name": "Python 3",
   "language": "python",
   "name": "python3"
  },
  "language_info": {
   "codemirror_mode": {
    "name": "ipython",
    "version": 3
   },
   "file_extension": ".py",
   "mimetype": "text/x-python",
   "name": "python",
   "nbconvert_exporter": "python",
   "pygments_lexer": "ipython3",
   "version": "3.6.9"
  }
 },
 "nbformat": 4,
 "nbformat_minor": 4
}
