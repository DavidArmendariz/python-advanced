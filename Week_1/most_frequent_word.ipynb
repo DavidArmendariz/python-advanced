{
 "cells": [
  {
   "cell_type": "code",
   "execution_count": 24,
   "metadata": {},
   "outputs": [
    {
     "name": "stdout",
     "output_type": "stream",
     "text": [
      "a b c d e f g\n",
      "\n",
      "a\n"
     ]
    }
   ],
   "source": [
    "words = dict()\n",
    "while True:\n",
    "    text = input()\n",
    "    if text == \"\":\n",
    "        break\n",
    "    text = text.split()\n",
    "    for word in text:\n",
    "        if word not in words:\n",
    "            words[word] = 0\n",
    "        else:\n",
    "            words[word] += 1\n",
    "max_frequency = max(words.values())\n",
    "mode = []\n",
    "for key, val in words.items():\n",
    "    if val == max_frequency:\n",
    "        mode.append(key)\n",
    "mode.sort()\n",
    "print(mode[0])"
   ]
  }
 ],
 "metadata": {
  "kernelspec": {
   "display_name": "Python 3",
   "language": "python",
   "name": "python3"
  },
  "language_info": {
   "codemirror_mode": {
    "name": "ipython",
    "version": 3
   },
   "file_extension": ".py",
   "mimetype": "text/x-python",
   "name": "python",
   "nbconvert_exporter": "python",
   "pygments_lexer": "ipython3",
   "version": "3.6.9"
  }
 },
 "nbformat": 4,
 "nbformat_minor": 4
}
