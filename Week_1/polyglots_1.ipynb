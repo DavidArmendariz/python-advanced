{
 "cells": [
  {
   "cell_type": "code",
   "execution_count": null,
   "metadata": {},
   "outputs": [],
   "source": [
    "N = int(input())\n",
    "students = []\n",
    "for i in range(N):\n",
    "    Mi = int(input())\n",
    "    languages = []\n",
    "    for j in range(Mi):\n",
    "        languages.append(input())\n",
    "    students.append(languages)\n",
    "common_languages = set(students[0])\n",
    "for i in range(1, len(students)):\n",
    "    common_languages.intersection_update(students[i])\n",
    "print(len(common_languages))\n",
    "print(*sorted(common_languages), sep=\"\\n\")"
   ]
  }
 ],
 "metadata": {
  "kernelspec": {
   "display_name": "Python 3",
   "language": "python",
   "name": "python3"
  },
  "language_info": {
   "codemirror_mode": {
    "name": "ipython",
    "version": 3
   },
   "file_extension": ".py",
   "mimetype": "text/x-python",
   "name": "python",
   "nbconvert_exporter": "python",
   "pygments_lexer": "ipython3",
   "version": "3.6.9"
  }
 },
 "nbformat": 4,
 "nbformat_minor": 4
}
