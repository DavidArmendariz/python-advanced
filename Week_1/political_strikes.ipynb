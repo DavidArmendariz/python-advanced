{
 "cells": [
  {
   "cell_type": "code",
   "execution_count": null,
   "metadata": {},
   "outputs": [],
   "source": [
    "N, K = [int(x) for x in input().split()]\n",
    "strikes = []\n",
    "for i in range(K):\n",
    "    ai, bi = [int(x) for x in input().split()]\n",
    "    days = [ai]\n",
    "    i = 1\n",
    "    while True:\n",
    "        if (ai + i*bi) > N:\n",
    "            break\n",
    "        else:\n",
    "            days.append(ai + i*bi)\n",
    "        i += 1\n",
    "    strikes.append(days)\n",
    "holidays = []\n",
    "i = 0\n",
    "while True:\n",
    "    if (6+7*i) > N:\n",
    "        break\n",
    "    else:\n",
    "        holidays.append(6+7*i)\n",
    "    if (7+7*i) > N:\n",
    "        break\n",
    "    else:\n",
    "        holidays.append(7+7*i)\n",
    "    i += 1\n",
    "set_days = set(strikes[0])\n",
    "for i in range(1, len(strikes)):\n",
    "    set_days.update(strikes[i])\n",
    "set_days.difference_update(holidays)\n",
    "print(len(set_days))"
   ]
  }
 ],
 "metadata": {
  "kernelspec": {
   "display_name": "Python 3",
   "language": "python",
   "name": "python3"
  },
  "language_info": {
   "codemirror_mode": {
    "name": "ipython",
    "version": 3
   },
   "file_extension": ".py",
   "mimetype": "text/x-python",
   "name": "python",
   "nbconvert_exporter": "python",
   "pygments_lexer": "ipython3",
   "version": "3.6.9"
  }
 },
 "nbformat": 4,
 "nbformat_minor": 4
}
