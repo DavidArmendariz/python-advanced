{
 "cells": [
  {
   "cell_type": "code",
   "execution_count": null,
   "metadata": {},
   "outputs": [],
   "source": [
    "words = dict()\n",
    "result = []\n",
    "while True:\n",
    "    text = input()\n",
    "    if text == \"\":\n",
    "        break\n",
    "    text = text.split()\n",
    "    for word in text:\n",
    "        if word not in words:\n",
    "            words[word] = 0\n",
    "        else:\n",
    "            words[word] += 1\n",
    "        result.append(words[word])\n",
    "print(*result, sep=\" \")"
   ]
  },
  {
   "cell_type": "code",
   "execution_count": null,
   "metadata": {},
   "outputs": [],
   "source": []
  }
 ],
 "metadata": {
  "kernelspec": {
   "display_name": "Python 3",
   "language": "python",
   "name": "python3"
  },
  "language_info": {
   "codemirror_mode": {
    "name": "ipython",
    "version": 3
   },
   "file_extension": ".py",
   "mimetype": "text/x-python",
   "name": "python",
   "nbconvert_exporter": "python",
   "pygments_lexer": "ipython3",
   "version": "3.6.9"
  }
 },
 "nbformat": 4,
 "nbformat_minor": 4
}
