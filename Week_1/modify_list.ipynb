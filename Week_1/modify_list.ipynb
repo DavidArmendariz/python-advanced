{
 "cells": [
  {
   "cell_type": "code",
   "execution_count": 32,
   "metadata": {},
   "outputs": [],
   "source": [
    "def modify_list(a):\n",
    "    indexes = []\n",
    "    # first, we capture the indexes of the odd elements to be removed\n",
    "    for i in range(len(a)):\n",
    "        if a[i] % 2 != 0:\n",
    "            indexes.append(i)\n",
    "    # now, we remove those indexes in reverse order\n",
    "    for index in sorted(indexes, reverse=True):\n",
    "        del a[index]\n",
    "    # finally, we divide by two the even numbers\n",
    "    for i in range(len(a)):\n",
    "        if a[i] % 2 == 0:\n",
    "            a[i] //= 2"
   ]
  }
 ],
 "metadata": {
  "kernelspec": {
   "display_name": "Python 3",
   "language": "python",
   "name": "python3"
  },
  "language_info": {
   "codemirror_mode": {
    "name": "ipython",
    "version": 3
   },
   "file_extension": ".py",
   "mimetype": "text/x-python",
   "name": "python",
   "nbconvert_exporter": "python",
   "pygments_lexer": "ipython3",
   "version": "3.6.9"
  }
 },
 "nbformat": 4,
 "nbformat_minor": 4
}
