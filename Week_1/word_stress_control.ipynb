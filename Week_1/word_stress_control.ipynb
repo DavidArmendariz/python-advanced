{
 "cells": [
  {
   "cell_type": "code",
   "execution_count": null,
   "metadata": {},
   "outputs": [],
   "source": [
    "N = int(input())\n",
    "words = dict()\n",
    "for _ in range(N):\n",
    "    word = input()\n",
    "    if word.lower() not in words:\n",
    "        words[word.lower()] = [word]\n",
    "    else:\n",
    "        words[word.lower()] += [word]\n",
    "text = input().split()\n",
    "mistakes = 0\n",
    "for word in text:\n",
    "    lowercase_word = word.lower()\n",
    "    if lowercase_word in words:\n",
    "        if word not in words[lowercase_word]:\n",
    "            mistakes += 1\n",
    "    else:\n",
    "        accents = [x for x in word if x.isupper()]\n",
    "        if len(accents) != 1:\n",
    "            mistakes += 1\n",
    "print(mistakes)"
   ]
  },
  {
   "cell_type": "code",
   "execution_count": null,
   "metadata": {},
   "outputs": [],
   "source": []
  }
 ],
 "metadata": {
  "kernelspec": {
   "display_name": "Python 3",
   "language": "python",
   "name": "python3"
  },
  "language_info": {
   "codemirror_mode": {
    "name": "ipython",
    "version": 3
   },
   "file_extension": ".py",
   "mimetype": "text/x-python",
   "name": "python",
   "nbconvert_exporter": "python",
   "pygments_lexer": "ipython3",
   "version": "3.6.9"
  }
 },
 "nbformat": 4,
 "nbformat_minor": 4
}
