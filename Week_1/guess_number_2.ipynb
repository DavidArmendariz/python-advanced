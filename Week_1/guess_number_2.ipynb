{
 "cells": [
  {
   "cell_type": "code",
   "execution_count": 15,
   "metadata": {},
   "outputs": [
    {
     "name": "stdout",
     "output_type": "stream",
     "text": [
      "16\n",
      "1 2 3 4 5 6 7 8\n",
      "9 10 11 12\n",
      "13 14\n",
      "16\n",
      "HELP\n",
      "NO\n",
      "NO\n",
      "NO\n",
      "NO\n",
      "15\n"
     ]
    }
   ],
   "source": [
    "N = int(input())\n",
    "conceived_numbers = set(range(1,N+1))\n",
    "answers = []\n",
    "while True:\n",
    "    numbers_or_help = input()\n",
    "    if numbers_or_help == \"HELP\":\n",
    "        break\n",
    "    numbers = [int(x) for x in numbers_or_help.split()]\n",
    "    intersection = conceived_numbers.intersection(numbers)\n",
    "    if len(intersection) <= (len(conceived_numbers) // 2):\n",
    "        answers.append(\"NO\")\n",
    "        conceived_numbers.difference_update(numbers)\n",
    "    else:\n",
    "        answers.append(\"YES\")\n",
    "        conceived_numbers.intersection_update(numbers)\n",
    "print(*answers, sep=\"\\n\")\n",
    "print(*sorted(conceived_numbers), sep=\" \")"
   ]
  },
  {
   "cell_type": "code",
   "execution_count": null,
   "metadata": {},
   "outputs": [],
   "source": []
  }
 ],
 "metadata": {
  "kernelspec": {
   "display_name": "Python 3",
   "language": "python",
   "name": "python3"
  },
  "language_info": {
   "codemirror_mode": {
    "name": "ipython",
    "version": 3
   },
   "file_extension": ".py",
   "mimetype": "text/x-python",
   "name": "python",
   "nbconvert_exporter": "python",
   "pygments_lexer": "ipython3",
   "version": "3.6.9"
  }
 },
 "nbformat": 4,
 "nbformat_minor": 4
}
