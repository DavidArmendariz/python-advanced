{
 "cells": [
  {
   "cell_type": "code",
   "execution_count": 13,
   "metadata": {},
   "outputs": [
    {
     "name": "stdout",
     "output_type": "stream",
     "text": [
      "100 3\n",
      "200\n",
      "200\n",
      "200\n",
      "0\n"
     ]
    }
   ],
   "source": [
    "total_size, users = [int(x) for x in input().split()]\n",
    "sizes = sorted([int(input()) for _ in range(users)])\n",
    "used_space, users_stored = 0, 0\n",
    "for size in sizes:\n",
    "    if used_space + size <= total_size:\n",
    "        used_space += size\n",
    "        users_stored += 1\n",
    "    else:\n",
    "        break\n",
    "print(users_stored)"
   ]
  },
  {
   "cell_type": "code",
   "execution_count": null,
   "metadata": {},
   "outputs": [],
   "source": []
  }
 ],
 "metadata": {
  "kernelspec": {
   "display_name": "Python 3",
   "language": "python",
   "name": "python3"
  },
  "language_info": {
   "codemirror_mode": {
    "name": "ipython",
    "version": 3
   },
   "file_extension": ".py",
   "mimetype": "text/x-python",
   "name": "python",
   "nbconvert_exporter": "python",
   "pygments_lexer": "ipython3",
   "version": "3.6.9"
  }
 },
 "nbformat": 4,
 "nbformat_minor": 4
}
