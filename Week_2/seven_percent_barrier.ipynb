{
 "cells": [
  {
   "cell_type": "code",
   "execution_count": 8,
   "metadata": {},
   "outputs": [
    {
     "name": "stdout",
     "output_type": "stream",
     "text": [
      "PARTIES:\n",
      "party one\n",
      "party two\n",
      "VOTES:\n",
      "party one\n",
      "party one\n",
      "party one\n",
      "party two\n",
      "\n"
     ]
    }
   ],
   "source": [
    "option = input()\n",
    "parties = dict()\n",
    "while True:\n",
    "    x = input()\n",
    "    if x == \"VOTES:\":\n",
    "        break\n",
    "    parties.setdefault(x, 0)\n",
    "while True:\n",
    "    x = input()\n",
    "    if x == \"\":\n",
    "        break\n",
    "    parties[x] += 1\n",
    "total = sum(parties.values())\n",
    "for party, count in parties.items():\n",
    "    if int((count/total)*100) >= 7:\n",
    "        print(party)"
   ]
  }
 ],
 "metadata": {
  "kernelspec": {
   "display_name": "Python 3",
   "language": "python",
   "name": "python3"
  },
  "language_info": {
   "codemirror_mode": {
    "name": "ipython",
    "version": 3
   },
   "file_extension": ".py",
   "mimetype": "text/x-python",
   "name": "python",
   "nbconvert_exporter": "python",
   "pygments_lexer": "ipython3",
   "version": "3.6.9"
  }
 },
 "nbformat": 4,
 "nbformat_minor": 4
}
