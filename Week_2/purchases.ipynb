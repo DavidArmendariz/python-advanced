{
 "cells": [
  {
   "cell_type": "code",
   "execution_count": 4,
   "metadata": {},
   "outputs": [
    {
     "name": "stdout",
     "output_type": "stream",
     "text": [
      "Ivanov paper 10\n",
      "Petrov pens 5\n",
      "Ivanov marker 3\n",
      "Ivanov paper 7\n",
      "Petrov envelop 20\n",
      "Ivanov envelop 5\n",
      "\n",
      "Ivanov:\n",
      "envelop 5\n",
      "marker 3\n",
      "paper 17\n",
      "Petrov:\n",
      "envelop 20\n",
      "pens 5\n"
     ]
    }
   ],
   "source": [
    "purchases = dict()\n",
    "while True:\n",
    "    line = input()\n",
    "    if line == \"\":\n",
    "        break\n",
    "    customer, item, quantity = line.split()\n",
    "    quantity = int(quantity)\n",
    "    if customer not in purchases:\n",
    "        purchases[customer] = {item: quantity}\n",
    "    else:\n",
    "        if item not in purchases[customer]:\n",
    "            purchases[customer][item] = quantity\n",
    "        else:\n",
    "            purchases[customer][item] += quantity\n",
    "customers_sorted = sorted(purchases)\n",
    "for customer in customers_sorted:\n",
    "    items_sorted = sorted(purchases[customer])\n",
    "    print(f\"{customer}:\")\n",
    "    for item in items_sorted:\n",
    "        print(f\"{item} {purchases[customer][item]}\")"
   ]
  },
  {
   "cell_type": "code",
   "execution_count": null,
   "metadata": {},
   "outputs": [],
   "source": []
  }
 ],
 "metadata": {
  "kernelspec": {
   "display_name": "Python 3",
   "language": "python",
   "name": "python3"
  },
  "language_info": {
   "codemirror_mode": {
    "name": "ipython",
    "version": 3
   },
   "file_extension": ".py",
   "mimetype": "text/x-python",
   "name": "python",
   "nbconvert_exporter": "python",
   "pygments_lexer": "ipython3",
   "version": "3.6.9"
  }
 },
 "nbformat": 4,
 "nbformat_minor": 4
}
