{
 "cells": [
  {
   "cell_type": "code",
   "execution_count": 21,
   "metadata": {},
   "outputs": [
    {
     "name": "stdout",
     "output_type": "stream",
     "text": [
      "damme damme damme damme is is is name name name\n",
      "\n",
      "damme\n",
      "is\n",
      "name\n"
     ]
    }
   ],
   "source": [
    "words  = dict()\n",
    "while True:\n",
    "    line = input()\n",
    "    if line == \"\":\n",
    "        break\n",
    "    line = line.split()\n",
    "    for word in line:\n",
    "        words[word] = words.setdefault(word, 0) + 1\n",
    "sorted_words = sorted(words, key=lambda x: words[x], reverse=True)\n",
    "results = []\n",
    "for word in sorted_words:\n",
    "    if word in results:\n",
    "        continue\n",
    "    results += sorted([k for k, v in words.items() if v == words[word]])\n",
    "print(*results, sep=\"\\n\")"
   ]
  },
  {
   "cell_type": "code",
   "execution_count": 13,
   "metadata": {},
   "outputs": [],
   "source": []
  }
 ],
 "metadata": {
  "kernelspec": {
   "display_name": "Python 3",
   "language": "python",
   "name": "python3"
  },
  "language_info": {
   "codemirror_mode": {
    "name": "ipython",
    "version": 3
   },
   "file_extension": ".py",
   "mimetype": "text/x-python",
   "name": "python",
   "nbconvert_exporter": "python",
   "pygments_lexer": "ipython3",
   "version": "3.6.9"
  }
 },
 "nbformat": 4,
 "nbformat_minor": 4
}
