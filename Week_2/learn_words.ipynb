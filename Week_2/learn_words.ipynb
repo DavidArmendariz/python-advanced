{
 "cells": [
  {
   "cell_type": "code",
   "execution_count": 6,
   "metadata": {},
   "outputs": [
    {
     "name": "stdout",
     "output_type": "stream",
     "text": [
      "3\n",
      "news\n",
      "are\n",
      "taxi\n",
      "are\n",
      "taxi\n",
      "news\n"
     ]
    }
   ],
   "source": [
    "N = int(input())\n",
    "words = dict()\n",
    "for n in range(N):\n",
    "    word = input()\n",
    "    length = len(word)\n",
    "    words[length] = words.get(length, []) + [word]\n",
    "for length in sorted(words):\n",
    "    for word in sorted([x[::-1] for x in words[length]]):\n",
    "        print(word[::-1])"
   ]
  },
  {
   "cell_type": "code",
   "execution_count": null,
   "metadata": {},
   "outputs": [],
   "source": []
  }
 ],
 "metadata": {
  "kernelspec": {
   "display_name": "Python 3",
   "language": "python",
   "name": "python3"
  },
  "language_info": {
   "codemirror_mode": {
    "name": "ipython",
    "version": 3
   },
   "file_extension": ".py",
   "mimetype": "text/x-python",
   "name": "python",
   "nbconvert_exporter": "python",
   "pygments_lexer": "ipython3",
   "version": "3.6.9"
  }
 },
 "nbformat": 4,
 "nbformat_minor": 4
}
