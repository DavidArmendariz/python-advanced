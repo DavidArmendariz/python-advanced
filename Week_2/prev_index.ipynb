{
 "cells": [
  {
   "cell_type": "code",
   "execution_count": 3,
   "metadata": {},
   "outputs": [
    {
     "name": "stdout",
     "output_type": "stream",
     "text": [
      "one two one\n",
      "tho three\n",
      "\n",
      "-1 -1 0 -1 -1\n"
     ]
    }
   ],
   "source": [
    "words = []\n",
    "while True:\n",
    "    text = input()\n",
    "    if text == \"\":\n",
    "        break\n",
    "    text = text.split()\n",
    "    words += text\n",
    "words_dict = dict()\n",
    "results = []\n",
    "for i in range(len(words)):\n",
    "    if words[i] not in words_dict:\n",
    "        results.append(-1)\n",
    "        words_dict[words[i]] = i\n",
    "    else:\n",
    "        results.append(words_dict[words[i]])\n",
    "        words_dict[words[i]] = i\n",
    "print(*results, sep=\" \")"
   ]
  },
  {
   "cell_type": "code",
   "execution_count": null,
   "metadata": {},
   "outputs": [],
   "source": []
  }
 ],
 "metadata": {
  "kernelspec": {
   "display_name": "Python 3",
   "language": "python",
   "name": "python3"
  },
  "language_info": {
   "codemirror_mode": {
    "name": "ipython",
    "version": 3
   },
   "file_extension": ".py",
   "mimetype": "text/x-python",
   "name": "python",
   "nbconvert_exporter": "python",
   "pygments_lexer": "ipython3",
   "version": "3.6.9"
  }
 },
 "nbformat": 4,
 "nbformat_minor": 4
}
