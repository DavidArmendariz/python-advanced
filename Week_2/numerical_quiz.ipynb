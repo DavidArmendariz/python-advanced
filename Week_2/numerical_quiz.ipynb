{
 "cells": [
  {
   "cell_type": "code",
   "execution_count": 10,
   "metadata": {},
   "outputs": [
    {
     "name": "stdout",
     "output_type": "stream",
     "text": [
      "4\n",
      "7092\n",
      "6558\n",
      "1744\n",
      "498\n",
      "498\n",
      "7092\n",
      "6558\n",
      "1744\n"
     ]
    }
   ],
   "source": [
    "n = int(input())\n",
    "words = [input() for _ in range(n)]\n",
    "def decompose(x):\n",
    "    return sum([int(x[i])-int(x[len(x)-i-1]) for i in range(len(x)//2)])\n",
    "words.sort(key=lambda word: (decompose(word), abs(int(word))))\n",
    "print(*words, sep=\"\\n\")"
   ]
  }
 ],
 "metadata": {
  "kernelspec": {
   "display_name": "Python 3",
   "language": "python",
   "name": "python3"
  },
  "language_info": {
   "codemirror_mode": {
    "name": "ipython",
    "version": 3
   },
   "file_extension": ".py",
   "mimetype": "text/x-python",
   "name": "python",
   "nbconvert_exporter": "python",
   "pygments_lexer": "ipython3",
   "version": "3.6.9"
  }
 },
 "nbformat": 4,
 "nbformat_minor": 4
}
