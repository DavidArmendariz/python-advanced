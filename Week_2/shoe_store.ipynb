{
 "cells": [
  {
   "cell_type": "code",
   "execution_count": null,
   "metadata": {},
   "outputs": [],
   "source": [
    "foot_size = int(input())\n",
    "sizes = sorted([int(x) for x in input().split()])\n",
    "\n",
    "count = 0\n",
    "previous_suitable_size = foot_size - 3\n",
    "\n",
    "for size in sizes:\n",
    "    if size >= previous_suitable_size + 3:\n",
    "        previous_suitable_size = size\n",
    "        count += 1\n",
    "print(count)"
   ]
  }
 ],
 "metadata": {
  "kernelspec": {
   "display_name": "Python 3",
   "language": "python",
   "name": "python3"
  },
  "language_info": {
   "codemirror_mode": {
    "name": "ipython",
    "version": 3
   },
   "file_extension": ".py",
   "mimetype": "text/x-python",
   "name": "python",
   "nbconvert_exporter": "python",
   "pygments_lexer": "ipython3",
   "version": "3.6.9"
  }
 },
 "nbformat": 4,
 "nbformat_minor": 4
}
