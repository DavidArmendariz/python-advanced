{
 "cells": [
  {
   "cell_type": "code",
   "execution_count": 13,
   "metadata": {},
   "outputs": [
    {
     "name": "stdout",
     "output_type": "stream",
     "text": [
      "BALANCE a\n",
      "BALANCE b\n",
      "DEPOSIT a 100\n",
      "BALANCE a\n",
      "BALANCE b\n",
      "WITHDRAW a 20\n",
      "BALANCE a\n",
      "BALANCE b\n",
      "WITHDRAW b 78\n",
      "BALANCE a\n",
      "BALANCE b\n",
      "WITHDRAW a 784\n",
      "BALANCE a\n",
      "BALANCE b\n",
      "DEPOSIT b 849\n",
      "BALANCE a\n",
      "BALANCE b\n",
      "\n",
      "ERROR\n",
      "ERROR\n",
      "100\n",
      "ERROR\n",
      "80\n",
      "ERROR\n",
      "80\n",
      "-78\n",
      "-704\n",
      "-78\n",
      "-704\n",
      "771\n"
     ]
    }
   ],
   "source": [
    "accounts = dict()\n",
    "results = []\n",
    "while True:\n",
    "    option = input()\n",
    "    if option == \"\":\n",
    "        break\n",
    "    option = option.split()\n",
    "    if option[0] == \"DEPOSIT\":\n",
    "        account, amount = option[1], option[2]\n",
    "        if account not in accounts:\n",
    "            accounts[account] = int(amount)\n",
    "        else:\n",
    "            accounts[account] += int(amount)\n",
    "    elif option[0] == \"WITHDRAW\":\n",
    "        account, amount = option[1], option[2]\n",
    "        if account not in accounts:\n",
    "            accounts[account] = -int(amount)\n",
    "        else:\n",
    "            accounts[account] -= int(amount)\n",
    "    elif option[0] == \"BALANCE\":\n",
    "        account = option[1]\n",
    "        if account in accounts:\n",
    "            results.append(accounts[account])\n",
    "        else:\n",
    "            results.append(\"ERROR\")\n",
    "    elif option[0] == \"TRANSFER\":\n",
    "        sender, receiver, amount = option[1], option[2], option[3]\n",
    "        if sender not in accounts:\n",
    "            accounts[sender] = -int(amount)\n",
    "        else:\n",
    "            accounts[sender] -= int(amount)\n",
    "        if receiver not in accounts:\n",
    "            accounts[receiver] = int(amount)\n",
    "        else:\n",
    "            accounts[receiver] += int(amount)\n",
    "    elif option[0] == \"INCOME\":\n",
    "        p = int(option[1])/100\n",
    "        for client, amount in accounts.items():\n",
    "            if amount >= 0:\n",
    "                accounts[client] += int(p*amount)\n",
    "print(*results, sep=\"\\n\")"
   ]
  },
  {
   "cell_type": "code",
   "execution_count": null,
   "metadata": {},
   "outputs": [],
   "source": []
  }
 ],
 "metadata": {
  "kernelspec": {
   "display_name": "Python 3",
   "language": "python",
   "name": "python3"
  },
  "language_info": {
   "codemirror_mode": {
    "name": "ipython",
    "version": 3
   },
   "file_extension": ".py",
   "mimetype": "text/x-python",
   "name": "python",
   "nbconvert_exporter": "python",
   "pygments_lexer": "ipython3",
   "version": "3.6.9"
  }
 },
 "nbformat": 4,
 "nbformat_minor": 4
}
