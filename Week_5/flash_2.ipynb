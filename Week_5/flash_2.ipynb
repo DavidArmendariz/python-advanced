{
 "cells": [
  {
   "cell_type": "code",
   "execution_count": 6,
   "metadata": {},
   "outputs": [],
   "source": [
    "class FlashError(Exception):\n",
    "    pass\n",
    "\n",
    "class FlashMaxFileSizeError(FlashError):\n",
    "    pass\n",
    "\n",
    "class FlashMemoryLimitError(FlashError):\n",
    "    pass\n",
    "\n",
    "class Flash:\n",
    "    def __init__(self, capacity, max_file_size = None):\n",
    "        self.capacity = capacity\n",
    "        self.max_file_size = max_file_size\n",
    "        self._size = 0\n",
    "\n",
    "    def write(self, v):\n",
    "        if self.max_file_size and v > self.max_file_size:\n",
    "            raise FlashMaxFileSizeError\n",
    "        if v + self._size > self.capacity:\n",
    "            raise FlashMemoryLimitError\n",
    "        self._size += v\n"
   ]
  },
  {
   "cell_type": "code",
   "execution_count": null,
   "metadata": {},
   "outputs": [],
   "source": []
  }
 ],
 "metadata": {
  "kernelspec": {
   "display_name": "Python 3",
   "language": "python",
   "name": "python3"
  },
  "language_info": {
   "codemirror_mode": {
    "name": "ipython",
    "version": 3
   },
   "file_extension": ".py",
   "mimetype": "text/x-python",
   "name": "python",
   "nbconvert_exporter": "python",
   "pygments_lexer": "ipython3",
   "version": "3.6.9"
  }
 },
 "nbformat": 4,
 "nbformat_minor": 4
}
