{
 "cells": [
  {
   "cell_type": "code",
   "execution_count": 2,
   "metadata": {},
   "outputs": [
    {
     "name": "stdout",
     "output_type": "stream",
     "text": [
      "Number of records: 891\n"
     ]
    }
   ],
   "source": [
    "import csv\n",
    "with open(\"titanic.csv\") as file:\n",
    "    headers = file.readline().rstrip().split(\",\")\n",
    "    headers_with_index = {title: index for index, title in enumerate(headers)}\n",
    "    data = list()\n",
    "    for line in file:\n",
    "        processed_line = list(csv.reader([line.rstrip()], skipinitialspace=True))[0]\n",
    "        data.append(processed_line)\n",
    "print(f\"Number of records: {len(data)}\")"
   ]
  },
  {
   "cell_type": "code",
   "execution_count": 3,
   "metadata": {},
   "outputs": [
    {
     "name": "stdout",
     "output_type": "stream",
     "text": [
      "Number of males: 577\n"
     ]
    }
   ],
   "source": [
    "number_of_males = list(filter(lambda line: line[headers_with_index[\"Sex\"]] == \"male\", data))\n",
    "print(f\"Number of males: {len(number_of_males)}\")"
   ]
  },
  {
   "cell_type": "code",
   "execution_count": 4,
   "metadata": {},
   "outputs": [
    {
     "data": {
      "text/plain": [
       "{'PassengerId': 0,\n",
       " 'Survived': 1,\n",
       " 'Pclass': 2,\n",
       " 'Name': 3,\n",
       " 'Sex': 4,\n",
       " 'Age': 5,\n",
       " 'SibSp': 6,\n",
       " 'Parch': 7,\n",
       " 'Ticket': 8,\n",
       " 'Fare': 9,\n",
       " 'Cabin': 10,\n",
       " 'Embarked': 11}"
      ]
     },
     "execution_count": 4,
     "metadata": {},
     "output_type": "execute_result"
    }
   ],
   "source": [
    "headers_with_index"
   ]
  },
  {
   "cell_type": "code",
   "execution_count": 5,
   "metadata": {},
   "outputs": [
    {
     "name": "stdout",
     "output_type": "stream",
     "text": [
      "Parch greater than zero: 213\n"
     ]
    }
   ],
   "source": [
    "parch_greater_than_zero = list(filter(lambda line: line[headers_with_index[\"Parch\"]] > \"0\", data))\n",
    "print(f\"Parch greater than zero: {len(parch_greater_than_zero)}\")"
   ]
  },
  {
   "cell_type": "code",
   "execution_count": 6,
   "metadata": {},
   "outputs": [
    {
     "name": "stdout",
     "output_type": "stream",
     "text": [
      "Proportion of first class passengers: 0.24\n"
     ]
    }
   ],
   "source": [
    "first_class_passengers = list(filter(lambda line: line[headers_with_index[\"Pclass\"]] == \"1\", data))\n",
    "proportion_first_class_passengers = len(first_class_passengers)/len(data)\n",
    "print(f\"Proportion of first class passengers: {proportion_first_class_passengers:.2f}\")"
   ]
  },
  {
   "cell_type": "code",
   "execution_count": 7,
   "metadata": {},
   "outputs": [
    {
     "name": "stdout",
     "output_type": "stream",
     "text": [
      "Proportion of survivors: 0.38\n"
     ]
    }
   ],
   "source": [
    "survivors = list(filter(lambda line: line[headers_with_index[\"Survived\"]] == \"1\", data))\n",
    "proportion_survivors = len(survivors)/len(data)\n",
    "print(f\"Proportion of survivors: {proportion_survivors:.2f}\")"
   ]
  },
  {
   "cell_type": "code",
   "execution_count": 8,
   "metadata": {},
   "outputs": [
    {
     "name": "stdout",
     "output_type": "stream",
     "text": [
      "Proportion of survivors: 0.63\n"
     ]
    }
   ],
   "source": [
    "def filter_survivors_first_class(line):\n",
    "    if line[headers_with_index[\"Survived\"]] == \"1\" and line[headers_with_index[\"Pclass\"]] == \"1\":\n",
    "        return True\n",
    "    return False\n",
    "survivors_first_class = list(filter(filter_survivors_first_class, data))\n",
    "proportion_survivors_first_class = len(survivors_first_class)/len(first_class_passengers)\n",
    "print(f\"Proportion of survivors: {proportion_survivors_first_class:.2f}\")"
   ]
  },
  {
   "cell_type": "code",
   "execution_count": 12,
   "metadata": {},
   "outputs": [
    {
     "name": "stdout",
     "output_type": "stream",
     "text": [
      "Average age of passengers: 29.70\n"
     ]
    }
   ],
   "source": [
    "ages = []\n",
    "for line in data:\n",
    "    try:\n",
    "        age = float(line[headers_with_index[\"Age\"]])\n",
    "    except ValueError:\n",
    "        continue\n",
    "    else:\n",
    "        ages.append(age)\n",
    "average_age = sum(ages)/len(ages)\n",
    "print(f\"Average age of passengers: {average_age:.2f}\")"
   ]
  },
  {
   "cell_type": "code",
   "execution_count": 14,
   "metadata": {},
   "outputs": [
    {
     "name": "stdout",
     "output_type": "stream",
     "text": [
      "Median age of passengers: 28.00\n"
     ]
    }
   ],
   "source": [
    "ages.sort()\n",
    "if len(ages) % 2 != 0:\n",
    "    median_age = ages[len(ages)//2]\n",
    "else:\n",
    "    median_age = (ages[len(ages)//2]+ages[len(ages)//2-1])/2\n",
    "print(f\"Median age of passengers: {median_age:.2f}\")"
   ]
  },
  {
   "cell_type": "code",
   "execution_count": 17,
   "metadata": {},
   "outputs": [
    {
     "name": "stdout",
     "output_type": "stream",
     "text": [
      "Most frequent age: 24.00\n"
     ]
    }
   ],
   "source": [
    "mode_ages = max(set(ages), key=ages.count)\n",
    "print(f\"Most frequent age: {mode_ages:.2f}\")"
   ]
  },
  {
   "cell_type": "code",
   "execution_count": 18,
   "metadata": {},
   "outputs": [
    {
     "name": "stdout",
     "output_type": "stream",
     "text": [
      "Number of people with high fares: 211\n"
     ]
    }
   ],
   "source": [
    "fares = []\n",
    "for line in data:\n",
    "    try:\n",
    "        fare = float(line[headers_with_index[\"Fare\"]])\n",
    "    except ValueError:\n",
    "        continue\n",
    "    else:\n",
    "        fares.append(fare)\n",
    "average_fare = sum(fares)/len(fares)\n",
    "fare_higher_than_average = len(list(filter(lambda fare: fare > average_fare, fares)))\n",
    "print(f\"Number of people with high fares: {fare_higher_than_average}\")"
   ]
  },
  {
   "cell_type": "code",
   "execution_count": null,
   "metadata": {},
   "outputs": [],
   "source": []
  }
 ],
 "metadata": {
  "kernelspec": {
   "display_name": "Python 3",
   "language": "python",
   "name": "python3"
  },
  "language_info": {
   "codemirror_mode": {
    "name": "ipython",
    "version": 3
   },
   "file_extension": ".py",
   "mimetype": "text/x-python",
   "name": "python",
   "nbconvert_exporter": "python",
   "pygments_lexer": "ipython3",
   "version": "3.6.9"
  }
 },
 "nbformat": 4,
 "nbformat_minor": 4
}
