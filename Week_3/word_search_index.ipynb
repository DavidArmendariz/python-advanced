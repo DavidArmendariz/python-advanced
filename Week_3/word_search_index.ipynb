{
 "cells": [
  {
   "cell_type": "code",
   "execution_count": null,
   "metadata": {},
   "outputs": [],
   "source": [
    "import json\n",
    "\n",
    "N = int(input())\n",
    "words = sorted([input() for _ in range(N)])\n",
    "search_index = dict()\n",
    "for word in words:\n",
    "    one_letter_prefix = word[0]\n",
    "    two_letter_prefix = word[0] + word[1]\n",
    "    if one_letter_prefix not in search_index:\n",
    "        search_index.setdefault(one_letter_prefix, dict())\n",
    "    search_index[one_letter_prefix][two_letter_prefix] = \\\n",
    "    search_index[one_letter_prefix].setdefault(two_letter_prefix, []) + [word]\n",
    "output_file = input()\n",
    "with open(output_file, \"w\") as file:\n",
    "    json.dump(search_index, file)"
   ]
  },
  {
   "cell_type": "code",
   "execution_count": null,
   "metadata": {},
   "outputs": [],
   "source": []
  }
 ],
 "metadata": {
  "kernelspec": {
   "display_name": "Python 3",
   "language": "python",
   "name": "python3"
  },
  "language_info": {
   "codemirror_mode": {
    "name": "ipython",
    "version": 3
   },
   "file_extension": ".py",
   "mimetype": "text/x-python",
   "name": "python",
   "nbconvert_exporter": "python",
   "pygments_lexer": "ipython3",
   "version": "3.6.9"
  }
 },
 "nbformat": 4,
 "nbformat_minor": 4
}
