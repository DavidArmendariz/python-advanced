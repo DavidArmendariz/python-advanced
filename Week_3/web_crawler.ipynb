{
 "cells": [
  {
   "cell_type": "code",
   "execution_count": 69,
   "metadata": {},
   "outputs": [
    {
     "name": "stdout",
     "output_type": "stream",
     "text": [
      "input_3.json\n",
      "vz.com/news/12/4/1011.html\n",
      "vz.com/news/12/4/798.html\n",
      "vz.com/news/12/6/101.html\n",
      "vz.com/news/12/6/2187.html\n",
      "www.euro-football.com/article/29/10\n",
      "www.euro-football.com/article/29/142\n",
      "www.euro-football.com/article/31/508\n",
      "www.euro-football.com/article/31/600\n"
     ]
    }
   ],
   "source": [
    "import json\n",
    "filename = input()\n",
    "with open(filename) as file:\n",
    "    data = json.loads(file.readline())\n",
    "sites = []\n",
    "def find_sites_recursively(data, url=\"\"):\n",
    "    if data == dict():\n",
    "        sites.append(url[1:])\n",
    "    else:\n",
    "        for key in data:\n",
    "            find_sites_recursively(data[key], f\"{url}/{key}\")\n",
    "find_sites_recursively(data)\n",
    "print(*sorted(sites), sep=\"\\n\")"
   ]
  },
  {
   "cell_type": "code",
   "execution_count": null,
   "metadata": {},
   "outputs": [],
   "source": []
  }
 ],
 "metadata": {
  "kernelspec": {
   "display_name": "Python 3",
   "language": "python",
   "name": "python3"
  },
  "language_info": {
   "codemirror_mode": {
    "name": "ipython",
    "version": 3
   },
   "file_extension": ".py",
   "mimetype": "text/x-python",
   "name": "python",
   "nbconvert_exporter": "python",
   "pygments_lexer": "ipython3",
   "version": "3.6.9"
  }
 },
 "nbformat": 4,
 "nbformat_minor": 4
}
