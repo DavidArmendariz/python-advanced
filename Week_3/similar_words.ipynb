{
 "cells": [
  {
   "cell_type": "code",
   "execution_count": 2,
   "metadata": {},
   "outputs": [
    {
     "name": "stdout",
     "output_type": "stream",
     "text": [
      "car cars jeep mercedes motorcycle scooter truck van vehicle vehicles\n",
      "0.99 0.74 0.65 0.61 0.63 0.64 0.67 0.61 0.78 0.60\n",
      "car\n",
      "vehicle\n",
      "cars\n",
      "truck\n",
      "jeep\n",
      "scooter\n",
      "motorcycle\n",
      "van\n",
      "mercedes\n",
      "vehicles\n"
     ]
    }
   ],
   "source": [
    "words = input().split()\n",
    "scores = map(float, input().split())\n",
    "result = filter(lambda x: x[0] > 0.5, zip(scores, words))\n",
    "print(*map(lambda x: x[1], sorted(result, key=lambda x: (x[0],x[1]), reverse=True)), sep=\"\\n\")"
   ]
  },
  {
   "cell_type": "code",
   "execution_count": null,
   "metadata": {},
   "outputs": [],
   "source": []
  }
 ],
 "metadata": {
  "kernelspec": {
   "display_name": "Python 3",
   "language": "python",
   "name": "python3"
  },
  "language_info": {
   "codemirror_mode": {
    "name": "ipython",
    "version": 3
   },
   "file_extension": ".py",
   "mimetype": "text/x-python",
   "name": "python",
   "nbconvert_exporter": "python",
   "pygments_lexer": "ipython3",
   "version": "3.6.9"
  }
 },
 "nbformat": 4,
 "nbformat_minor": 4
}
