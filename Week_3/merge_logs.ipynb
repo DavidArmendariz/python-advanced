{
 "cells": [
  {
   "cell_type": "code",
   "execution_count": 12,
   "metadata": {},
   "outputs": [
    {
     "name": "stdout",
     "output_type": "stream",
     "text": [
      "input_0.json input_1.json\n",
      "output.tsv\n"
     ]
    }
   ],
   "source": [
    "import json\n",
    "filenames = input().split()\n",
    "output = input()\n",
    "lines = list()\n",
    "for filename in filenames:\n",
    "    with open(filename) as file:\n",
    "        lines += list(map(lambda line: json.loads(line.rstrip()), file.readlines()))\n",
    "lines.sort(key = lambda line: (line[\"date\"], line[\"consumer_id\"]))\n",
    "with open(output, \"w\") as output_file:\n",
    "    for line in lines:\n",
    "        output_file.write(line[\"date\"])\n",
    "        output_file.write(\"\\t\")\n",
    "        output_file.write(line[\"message\"])\n",
    "        output_file.write(\"\\n\")"
   ]
  }
 ],
 "metadata": {
  "kernelspec": {
   "display_name": "Python 3",
   "language": "python",
   "name": "python3"
  },
  "language_info": {
   "codemirror_mode": {
    "name": "ipython",
    "version": 3
   },
   "file_extension": ".py",
   "mimetype": "text/x-python",
   "name": "python",
   "nbconvert_exporter": "python",
   "pygments_lexer": "ipython3",
   "version": "3.6.9"
  }
 },
 "nbformat": 4,
 "nbformat_minor": 4
}
