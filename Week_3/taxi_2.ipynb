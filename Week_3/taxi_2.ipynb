{
 "cells": [
  {
   "cell_type": "code",
   "execution_count": 24,
   "metadata": {},
   "outputs": [
    {
     "name": "stdout",
     "output_type": "stream",
     "text": [
      "10 20 30\n",
      "50 20 30\n",
      "0 2 1\n"
     ]
    }
   ],
   "source": [
    "distances = sorted(enumerate(map(int, input().split())), key = lambda x: x[1])\n",
    "fares = sorted(enumerate(map(int, input().split())), key = lambda x: x[1], reverse = True)\n",
    "orders = sorted(zip(distances, fares), key = lambda x: x[0][0])\n",
    "indices = map(lambda x: x[1][0], orders)\n",
    "print(*indices, sep=\" \")"
   ]
  }
 ],
 "metadata": {
  "kernelspec": {
   "display_name": "Python 3",
   "language": "python",
   "name": "python3"
  },
  "language_info": {
   "codemirror_mode": {
    "name": "ipython",
    "version": 3
   },
   "file_extension": ".py",
   "mimetype": "text/x-python",
   "name": "python",
   "nbconvert_exporter": "python",
   "pygments_lexer": "ipython3",
   "version": "3.6.9"
  }
 },
 "nbformat": 4,
 "nbformat_minor": 4
}
