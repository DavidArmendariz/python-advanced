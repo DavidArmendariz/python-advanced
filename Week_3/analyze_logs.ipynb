{
 "cells": [
  {
   "cell_type": "code",
   "execution_count": 29,
   "metadata": {},
   "outputs": [
    {
     "name": "stdout",
     "output_type": "stream",
     "text": [
      "input_2.json\n",
      "47\n",
      "15\n",
      "10\n",
      "32\n",
      "20\n"
     ]
    }
   ],
   "source": [
    "from json import loads, JSONDecodeError\n",
    "filename = input()\n",
    "correct_status_200 = 0\n",
    "correct_status_not_200 = 0\n",
    "status_not_int = 0\n",
    "no_status = 0\n",
    "bad_lines = 0\n",
    "with open(filename) as json_file:\n",
    "    for line in json_file:\n",
    "        try:\n",
    "            log = loads(line)\n",
    "        except JSONDecodeError:\n",
    "            bad_lines += 1\n",
    "        else:\n",
    "            status = log.get(\"status\")\n",
    "            try:\n",
    "                status = int(status)\n",
    "            except ValueError:\n",
    "                if status == \"\":\n",
    "                    no_status += 1\n",
    "                else:\n",
    "                    status_not_int += 1\n",
    "            except TypeError:\n",
    "                no_status += 1\n",
    "            else:\n",
    "                if status == 200:\n",
    "                    correct_status_200 += 1\n",
    "                else:\n",
    "                    correct_status_not_200 += 1\n",
    "print(*[correct_status_200, correct_status_not_200, status_not_int, no_status, bad_lines], sep=\"\\n\")"
   ]
  },
  {
   "cell_type": "code",
   "execution_count": null,
   "metadata": {},
   "outputs": [],
   "source": []
  }
 ],
 "metadata": {
  "kernelspec": {
   "display_name": "Python 3",
   "language": "python",
   "name": "python3"
  },
  "language_info": {
   "codemirror_mode": {
    "name": "ipython",
    "version": 3
   },
   "file_extension": ".py",
   "mimetype": "text/x-python",
   "name": "python",
   "nbconvert_exporter": "python",
   "pygments_lexer": "ipython3",
   "version": "3.6.9"
  }
 },
 "nbformat": 4,
 "nbformat_minor": 4
}
