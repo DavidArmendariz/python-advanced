{
 "cells": [
  {
   "cell_type": "code",
   "execution_count": 79,
   "metadata": {},
   "outputs": [],
   "source": [
    "import json\n",
    "\n",
    "class InvertedIndex:\n",
    "    def __init__(self, word_to_docs_mapping):\n",
    "        self.word_to_docs_mapping = word_to_docs_mapping\n",
    "\n",
    "    def query(self, words):\n",
    "        common_articles = set()\n",
    "        for articles in self.word_to_docs_mapping.values():\n",
    "            common_articles |= articles\n",
    "        for word in words:\n",
    "            common_articles &= self.word_to_docs_mapping[word]\n",
    "        return common_articles\n",
    "    def dump(self, filepath):\n",
    "        data = dict(map(lambda item: (item[0], list(item[1])), self.word_to_docs_mapping.items()))\n",
    "        with open(filepath, \"w\") as file:\n",
    "            json.dump(data, file)\n",
    "    @classmethod\n",
    "    def load(cls, filepath):\n",
    "        with open(filepath) as file:\n",
    "            data = json.load(file)\n",
    "        data = dict(map(lambda item: (item[0], set(item[1])), data.items()))\n",
    "        return cls(data)"
   ]
  },
  {
   "cell_type": "code",
   "execution_count": 80,
   "metadata": {},
   "outputs": [],
   "source": [
    "def load_document(filepath):\n",
    "    articles = dict()\n",
    "    with open(filepath, encoding=\"utf8\") as file:\n",
    "        lines = file.readlines()\n",
    "    data = map(lambda line: line.split(\"\\t\", maxsplit=1), lines)\n",
    "    for x in data:\n",
    "        articles[int(x[0])] = x[1].strip()\n",
    "    return articles"
   ]
  },
  {
   "cell_type": "code",
   "execution_count": 81,
   "metadata": {},
   "outputs": [],
   "source": [
    "def build_inverted_index(articles):\n",
    "    words = set()\n",
    "    inverted_index = dict()\n",
    "    for index, text in articles.items():\n",
    "        for word in text.split():\n",
    "            inverted_index[word] = inverted_index.setdefault(word, set()) | {index}\n",
    "    return InvertedIndex(inverted_index)"
   ]
  }
 ],
 "metadata": {
  "kernelspec": {
   "display_name": "Python 3",
   "language": "python",
   "name": "python3"
  },
  "language_info": {
   "codemirror_mode": {
    "name": "ipython",
    "version": 3
   },
   "file_extension": ".py",
   "mimetype": "text/x-python",
   "name": "python",
   "nbconvert_exporter": "python",
   "pygments_lexer": "ipython3",
   "version": "3.6.9"
  }
 },
 "nbformat": 4,
 "nbformat_minor": 4
}
