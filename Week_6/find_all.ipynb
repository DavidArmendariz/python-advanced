{
 "cells": [
  {
   "cell_type": "code",
   "execution_count": 28,
   "metadata": {},
   "outputs": [
    {
     "name": "stdout",
     "output_type": "stream",
     "text": [
      "<i>Python</i> was conceived in the late <i>1980s</i> by <i><b>Guido van Rossum</b></i>.\n",
      "<i>Python 2.0</i> was released on <i>16 October 2000\n",
      "</i>. <i>Python 3.0</i> was released on <i>3 December 2008</i>.\n",
      "It was a major revision of the language that is not completely <b>backward-compatible</b>.\n",
      "\n",
      "Python\n",
      "1980s\n",
      "<b>Guido van Rossum</b>\n",
      "Python 2.0\n",
      "Python 3.0\n",
      "3 December 2008\n"
     ]
    }
   ],
   "source": [
    "import re\n",
    "lines = list()\n",
    "regexp = re.compile(r'<i>(.*?)</i>')\n",
    "while True:\n",
    "    line = input()\n",
    "    if line == \"\":\n",
    "        break\n",
    "    lines += regexp.findall(line)\n",
    "print(*lines, sep=\"\\n\")"
   ]
  }
 ],
 "metadata": {
  "kernelspec": {
   "display_name": "Python 3",
   "language": "python",
   "name": "python3"
  },
  "language_info": {
   "codemirror_mode": {
    "name": "ipython",
    "version": 3
   },
   "file_extension": ".py",
   "mimetype": "text/x-python",
   "name": "python",
   "nbconvert_exporter": "python",
   "pygments_lexer": "ipython3",
   "version": "3.6.9"
  }
 },
 "nbformat": 4,
 "nbformat_minor": 4
}
